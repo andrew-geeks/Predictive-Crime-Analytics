{
 "cells": [
  {
   "cell_type": "code",
   "execution_count": 14,
   "id": "784185e9",
   "metadata": {},
   "outputs": [],
   "source": [
    "import pyspark\n",
    "from pyspark.sql import SparkSession\n",
    "from pyspark.sql.types import IntegerType\n",
    "import pandas as pd"
   ]
  },
  {
   "cell_type": "code",
   "execution_count": 15,
   "id": "73e8711e",
   "metadata": {},
   "outputs": [],
   "source": [
    "spark = SparkSession.builder.appName('CrimePrediction').getOrCreate()\n",
    "df = spark.read.format(\"csv\").load(\"../../datasets/FIR_Details_Data.csv\",header=True,inferSchema=True)"
   ]
  },
  {
   "cell_type": "code",
   "execution_count": 16,
   "id": "8571ab71",
   "metadata": {},
   "outputs": [
    {
     "data": {
      "text/plain": [
       "['District_Name',\n",
       " 'UnitName',\n",
       " 'FIRNo',\n",
       " 'RI',\n",
       " 'Year',\n",
       " 'Month',\n",
       " 'Offence_From_Date',\n",
       " 'Offence_To_Date',\n",
       " 'FIR_Reg_DateTime',\n",
       " 'FIR_Date',\n",
       " 'FIR Type',\n",
       " 'FIR_Stage',\n",
       " 'Complaint_Mode',\n",
       " 'CrimeGroup_Name',\n",
       " 'CrimeHead_Name',\n",
       " 'Latitude',\n",
       " 'Longitude',\n",
       " 'ActSection',\n",
       " 'IOName',\n",
       " 'KGID',\n",
       " 'IOAssigned_Date',\n",
       " 'Internal_IO',\n",
       " 'Place of Offence',\n",
       " 'Distance from PS',\n",
       " 'Beat_Name',\n",
       " 'Village_Area_Name',\n",
       " 'Male',\n",
       " 'Female',\n",
       " 'Boy',\n",
       " 'Girl',\n",
       " 'Age 0',\n",
       " 'VICTIM COUNT',\n",
       " 'Accused Count',\n",
       " 'Arrested Male',\n",
       " 'Arrested Female',\n",
       " 'Arrested Count\\tNo.',\n",
       " 'Accused_ChargeSheeted Count',\n",
       " 'Conviction Count',\n",
       " 'FIR_ID',\n",
       " 'Unit_ID',\n",
       " 'Crime_No']"
      ]
     },
     "execution_count": 16,
     "metadata": {},
     "output_type": "execute_result"
    }
   ],
   "source": [
    "df.columns"
   ]
  },
  {
   "cell_type": "code",
   "execution_count": 17,
   "id": "3b1a58f0",
   "metadata": {},
   "outputs": [
    {
     "data": {
      "text/plain": [
       "1694191"
      ]
     },
     "execution_count": 17,
     "metadata": {},
     "output_type": "execute_result"
    }
   ],
   "source": [
    "df.count()"
   ]
  },
  {
   "cell_type": "code",
   "execution_count": 18,
   "id": "fe084731",
   "metadata": {},
   "outputs": [
    {
     "name": "stdout",
     "output_type": "stream",
     "text": [
      "+--------------------+------+\n",
      "|     CrimeGroup_Name| count|\n",
      "+--------------------+------+\n",
      "|      BURGLARY - DAY|  8328|\n",
      "|      FALSE EVIDENCE|   259|\n",
      "|Karnataka State L...| 91769|\n",
      "|      UNNATURAL SEX |    52|\n",
      "|ESCAPE FROM LAWFU...|   340|\n",
      "|             SUICIDE|  6145|\n",
      "|      PUBLIC JUSTICE|    31|\n",
      "|      COUNTERFEITING|   320|\n",
      "|      MISSING PERSON|126237|\n",
      "|Attempting to com...|  1524|\n",
      "|         CYBER CRIME| 79756|\n",
      "|            ELECTION|  2671|\n",
      "|           FOREIGNER|   431|\n",
      "|CRIMINAL INTIMIDA...| 18092|\n",
      "|OFFENCES AGAINST ...| 10072|\n",
      "|      ARMS ACT  1959|  1665|\n",
      "|ATTEMPT TO CULPAB...|   287|\n",
      "|        ADULTERATION|   158|\n",
      "|WRONGFUL RESTRAIN...|  3501|\n",
      "|CULPABLE HOMICIDE...|   673|\n",
      "+--------------------+------+\n",
      "only showing top 20 rows\n",
      "\n"
     ]
    }
   ],
   "source": [
    "df.groupBy('CrimeGroup_Name').count().show()"
   ]
  },
  {
   "cell_type": "code",
   "execution_count": 19,
   "id": "9f6fcf34",
   "metadata": {},
   "outputs": [],
   "source": [
    "d_split = pyspark.sql.functions.split(df['FIR_Date'],'/')\n",
    "df =df.withColumn('Date',d_split.getItem(0))\n",
    "df = df.withColumn('Date', df['Date'].cast(IntegerType()))"
   ]
  },
  {
   "cell_type": "markdown",
   "id": "502852f6",
   "metadata": {},
   "source": [
    "## Replacing District Values"
   ]
  },
  {
   "cell_type": "code",
   "execution_count": 20,
   "id": "44d3ec62",
   "metadata": {},
   "outputs": [],
   "source": [
    "df = df.na.replace(['Belagavi City', 'Belagavi Dist'], ['Belagavi', 'Belagavi'], 'District_Name')\n",
    "df = df.na.replace(['Bengaluru City', 'Bengaluru Dist','ISD Bengaluru','CID'], ['Bengaluru', 'Bengaluru','Bengaluru', 'Bengaluru'], 'District_Name')\n",
    "df = df.na.replace(['Kalaburagi City'], ['Kalaburagi'], 'District_Name')\n",
    "df = df.na.replace(['Hubballi Dharwad City'], ['Dharwad'], 'District_Name')\n",
    "df = df.na.replace(['K.G.F'], ['Kolar'], 'District_Name')\n",
    "df = df.na.replace(['Mangaluru City'], ['Mangaluru'], 'District_Name')"
   ]
  },
  {
   "cell_type": "code",
   "execution_count": 21,
   "id": "103ff818",
   "metadata": {},
   "outputs": [
    {
     "name": "stdout",
     "output_type": "stream",
     "text": [
      "+--------------------+\n",
      "|       District_Name|\n",
      "+--------------------+\n",
      "|             Ballari|\n",
      "|            Bagalkot|\n",
      "|            Belagavi|\n",
      "|           Bengaluru|\n",
      "|               Bidar|\n",
      "|      Chamarajanagar|\n",
      "|      Chickballapura|\n",
      "|      Chikkamagaluru|\n",
      "|Coastal Security ...|\n",
      "|          Davanagere|\n",
      "|    Dakshina Kannada|\n",
      "|         Chitradurga|\n",
      "|             Dharwad|\n",
      "|              Haveri|\n",
      "|               Gadag|\n",
      "|              Hassan|\n",
      "|  Karnataka Railways|\n",
      "|              Kodagu|\n",
      "|          Kalaburagi|\n",
      "|               Kolar|\n",
      "+--------------------+\n",
      "only showing top 20 rows\n",
      "\n"
     ]
    }
   ],
   "source": [
    "df.select('District_Name').distinct().show()"
   ]
  },
  {
   "cell_type": "code",
   "execution_count": 22,
   "id": "62b0ebe3",
   "metadata": {},
   "outputs": [
    {
     "name": "stdout",
     "output_type": "stream",
     "text": [
      "+-----------+\n",
      "|   FIR Type|\n",
      "+-----------+\n",
      "|    Heinous|\n",
      "|Non Heinous|\n",
      "|       NULL|\n",
      "+-----------+\n",
      "\n"
     ]
    }
   ],
   "source": [
    "df.select('FIR Type').distinct().show()"
   ]
  },
  {
   "cell_type": "code",
   "execution_count": 23,
   "id": "1a1c0d33",
   "metadata": {},
   "outputs": [
    {
     "name": "stdout",
     "output_type": "stream",
     "text": [
      "+--------------+\n",
      "|      FIR Type|\n",
      "+--------------+\n",
      "|       Heinous|\n",
      "|   Non Heinous|\n",
      "|Not Applicable|\n",
      "+--------------+\n",
      "\n"
     ]
    }
   ],
   "source": [
    "df = df.na.replace(['NULL'], ['Not Applicable'], 'FIR Type')\n",
    "df.select('FIR Type').distinct().show()"
   ]
  },
  {
   "cell_type": "code",
   "execution_count": 24,
   "id": "3f73a5cd",
   "metadata": {},
   "outputs": [
    {
     "name": "stdout",
     "output_type": "stream",
     "text": [
      "root\n",
      " |-- District_Name: string (nullable = true)\n",
      " |-- UnitName: string (nullable = true)\n",
      " |-- FIRNo: string (nullable = true)\n",
      " |-- RI: integer (nullable = true)\n",
      " |-- Year: integer (nullable = true)\n",
      " |-- Month: integer (nullable = true)\n",
      " |-- Offence_From_Date: timestamp (nullable = true)\n",
      " |-- Offence_To_Date: string (nullable = true)\n",
      " |-- FIR_Reg_DateTime: timestamp (nullable = true)\n",
      " |-- FIR_Date: string (nullable = true)\n",
      " |-- FIR Type: string (nullable = true)\n",
      " |-- FIR_Stage: string (nullable = true)\n",
      " |-- Complaint_Mode: string (nullable = true)\n",
      " |-- CrimeGroup_Name: string (nullable = true)\n",
      " |-- CrimeHead_Name: string (nullable = true)\n",
      " |-- Latitude: string (nullable = true)\n",
      " |-- Longitude: string (nullable = true)\n",
      " |-- ActSection: string (nullable = true)\n",
      " |-- IOName: string (nullable = true)\n",
      " |-- KGID: string (nullable = true)\n",
      " |-- IOAssigned_Date: string (nullable = true)\n",
      " |-- Internal_IO: integer (nullable = true)\n",
      " |-- Place of Offence: string (nullable = true)\n",
      " |-- Distance from PS: string (nullable = true)\n",
      " |-- Beat_Name: string (nullable = true)\n",
      " |-- Village_Area_Name: string (nullable = true)\n",
      " |-- Male: string (nullable = true)\n",
      " |-- Female: string (nullable = true)\n",
      " |-- Boy: string (nullable = true)\n",
      " |-- Girl: string (nullable = true)\n",
      " |-- Age 0: string (nullable = true)\n",
      " |-- VICTIM COUNT: string (nullable = true)\n",
      " |-- Accused Count: string (nullable = true)\n",
      " |-- Arrested Male: integer (nullable = true)\n",
      " |-- Arrested Female: integer (nullable = true)\n",
      " |-- Arrested Count\\tNo.: integer (nullable = true)\n",
      " |-- Accused_ChargeSheeted Count: integer (nullable = true)\n",
      " |-- Conviction Count: integer (nullable = true)\n",
      " |-- FIR_ID: integer (nullable = true)\n",
      " |-- Unit_ID: integer (nullable = true)\n",
      " |-- Crime_No: long (nullable = true)\n",
      " |-- Date: integer (nullable = true)\n",
      "\n"
     ]
    }
   ],
   "source": [
    "df.printSchema()"
   ]
  },
  {
   "cell_type": "code",
   "execution_count": 25,
   "id": "0f2ad1ce",
   "metadata": {},
   "outputs": [],
   "source": [
    "model_columns = df.select(['District_Name','UnitName','Date','Month','Year','FIR Type'])"
   ]
  },
  {
   "cell_type": "code",
   "execution_count": 26,
   "id": "64d26110",
   "metadata": {},
   "outputs": [],
   "source": [
    "from pyspark.ml.feature import VectorAssembler, StringIndexer, OneHotEncoder\n",
    "\n",
    "District_NameIdx = StringIndexer(inputCol='District_Name', \n",
    "                               outputCol='District_Index') \n",
    "DistrictEncode = OneHotEncoder(inputCol='District_Index', \n",
    "                               outputCol='District_Vec') \n",
    "\n",
    "UnitNameIdx = StringIndexer(inputCol='UnitName', \n",
    "                               outputCol='UnitName_Index') \n",
    "UnitNameEncode = OneHotEncoder(inputCol='UnitName_Index', \n",
    "                               outputCol='UnitName_Vec') \n",
    "\n",
    "Fir_TypeIdx = StringIndexer(inputCol='FIR Type', \n",
    "                               outputCol='FirType_Index') \n",
    "UnitNameEncode = OneHotEncoder(inputCol='FirType_Index', \n",
    "                               outputCol='FirType_Vec') "
   ]
  },
  {
   "cell_type": "code",
   "execution_count": 28,
   "id": "53a9d7ce",
   "metadata": {},
   "outputs": [
    {
     "data": {
      "text/plain": [
       "1055"
      ]
     },
     "execution_count": 28,
     "metadata": {},
     "output_type": "execute_result"
    }
   ],
   "source": []
  },
  {
   "cell_type": "code",
   "execution_count": null,
   "id": "fa169dc6",
   "metadata": {},
   "outputs": [],
   "source": []
  }
 ],
 "metadata": {
  "kernelspec": {
   "display_name": "Python 3 (ipykernel)",
   "language": "python",
   "name": "python3"
  },
  "language_info": {
   "codemirror_mode": {
    "name": "ipython",
    "version": 3
   },
   "file_extension": ".py",
   "mimetype": "text/x-python",
   "name": "python",
   "nbconvert_exporter": "python",
   "pygments_lexer": "ipython3",
   "version": "3.9.12"
  }
 },
 "nbformat": 4,
 "nbformat_minor": 5
}
