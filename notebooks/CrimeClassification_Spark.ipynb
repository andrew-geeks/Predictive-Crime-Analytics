{
 "cells": [
  {
   "cell_type": "code",
   "execution_count": 41,
   "id": "784185e9",
   "metadata": {},
   "outputs": [],
   "source": [
    "import pyspark\n",
    "from pyspark.sql import SparkSession\n",
    "from pyspark.sql.types import IntegerType\n",
    "import pandas as pd\n",
    "from pyspark.ml import Pipeline\n",
    "from pyspark.ml.classification import LogisticRegression"
   ]
  },
  {
   "cell_type": "code",
   "execution_count": 15,
   "id": "73e8711e",
   "metadata": {},
   "outputs": [],
   "source": [
    "spark = SparkSession.builder.appName('CrimePrediction').getOrCreate()\n",
    "df = spark.read.format(\"csv\").load(\"../../datasets/FIR_Details_Data.csv\",header=True,inferSchema=True)"
   ]
  },
  {
   "cell_type": "code",
   "execution_count": 16,
   "id": "8571ab71",
   "metadata": {},
   "outputs": [
    {
     "data": {
      "text/plain": [
       "['District_Name',\n",
       " 'UnitName',\n",
       " 'FIRNo',\n",
       " 'RI',\n",
       " 'Year',\n",
       " 'Month',\n",
       " 'Offence_From_Date',\n",
       " 'Offence_To_Date',\n",
       " 'FIR_Reg_DateTime',\n",
       " 'FIR_Date',\n",
       " 'FIR Type',\n",
       " 'FIR_Stage',\n",
       " 'Complaint_Mode',\n",
       " 'CrimeGroup_Name',\n",
       " 'CrimeHead_Name',\n",
       " 'Latitude',\n",
       " 'Longitude',\n",
       " 'ActSection',\n",
       " 'IOName',\n",
       " 'KGID',\n",
       " 'IOAssigned_Date',\n",
       " 'Internal_IO',\n",
       " 'Place of Offence',\n",
       " 'Distance from PS',\n",
       " 'Beat_Name',\n",
       " 'Village_Area_Name',\n",
       " 'Male',\n",
       " 'Female',\n",
       " 'Boy',\n",
       " 'Girl',\n",
       " 'Age 0',\n",
       " 'VICTIM COUNT',\n",
       " 'Accused Count',\n",
       " 'Arrested Male',\n",
       " 'Arrested Female',\n",
       " 'Arrested Count\\tNo.',\n",
       " 'Accused_ChargeSheeted Count',\n",
       " 'Conviction Count',\n",
       " 'FIR_ID',\n",
       " 'Unit_ID',\n",
       " 'Crime_No']"
      ]
     },
     "execution_count": 16,
     "metadata": {},
     "output_type": "execute_result"
    }
   ],
   "source": [
    "df.columns"
   ]
  },
  {
   "cell_type": "code",
   "execution_count": 17,
   "id": "3b1a58f0",
   "metadata": {},
   "outputs": [
    {
     "data": {
      "text/plain": [
       "1694191"
      ]
     },
     "execution_count": 17,
     "metadata": {},
     "output_type": "execute_result"
    }
   ],
   "source": [
    "df.count()"
   ]
  },
  {
   "cell_type": "code",
   "execution_count": 18,
   "id": "fe084731",
   "metadata": {},
   "outputs": [
    {
     "name": "stdout",
     "output_type": "stream",
     "text": [
      "+--------------------+------+\n",
      "|     CrimeGroup_Name| count|\n",
      "+--------------------+------+\n",
      "|      BURGLARY - DAY|  8328|\n",
      "|      FALSE EVIDENCE|   259|\n",
      "|Karnataka State L...| 91769|\n",
      "|      UNNATURAL SEX |    52|\n",
      "|ESCAPE FROM LAWFU...|   340|\n",
      "|             SUICIDE|  6145|\n",
      "|      PUBLIC JUSTICE|    31|\n",
      "|      COUNTERFEITING|   320|\n",
      "|      MISSING PERSON|126237|\n",
      "|Attempting to com...|  1524|\n",
      "|         CYBER CRIME| 79756|\n",
      "|            ELECTION|  2671|\n",
      "|           FOREIGNER|   431|\n",
      "|CRIMINAL INTIMIDA...| 18092|\n",
      "|OFFENCES AGAINST ...| 10072|\n",
      "|      ARMS ACT  1959|  1665|\n",
      "|ATTEMPT TO CULPAB...|   287|\n",
      "|        ADULTERATION|   158|\n",
      "|WRONGFUL RESTRAIN...|  3501|\n",
      "|CULPABLE HOMICIDE...|   673|\n",
      "+--------------------+------+\n",
      "only showing top 20 rows\n",
      "\n"
     ]
    }
   ],
   "source": [
    "df.groupBy('CrimeGroup_Name').count().show()"
   ]
  },
  {
   "cell_type": "code",
   "execution_count": 19,
   "id": "9f6fcf34",
   "metadata": {},
   "outputs": [],
   "source": [
    "d_split = pyspark.sql.functions.split(df['FIR_Date'],'/')\n",
    "df =df.withColumn('Date',d_split.getItem(0))\n",
    "df = df.withColumn('Date', df['Date'].cast(IntegerType()))"
   ]
  },
  {
   "cell_type": "markdown",
   "id": "502852f6",
   "metadata": {},
   "source": [
    "## Replacing District Values"
   ]
  },
  {
   "cell_type": "code",
   "execution_count": 20,
   "id": "44d3ec62",
   "metadata": {},
   "outputs": [],
   "source": [
    "df = df.na.replace(['Belagavi City', 'Belagavi Dist'], ['Belagavi', 'Belagavi'], 'District_Name')\n",
    "df = df.na.replace(['Bengaluru City', 'Bengaluru Dist','ISD Bengaluru','CID'], ['Bengaluru', 'Bengaluru','Bengaluru', 'Bengaluru'], 'District_Name')\n",
    "df = df.na.replace(['Kalaburagi City'], ['Kalaburagi'], 'District_Name')\n",
    "df = df.na.replace(['Hubballi Dharwad City'], ['Dharwad'], 'District_Name')\n",
    "df = df.na.replace(['K.G.F'], ['Kolar'], 'District_Name')\n",
    "df = df.na.replace(['Mangaluru City'], ['Mangaluru'], 'District_Name')"
   ]
  },
  {
   "cell_type": "code",
   "execution_count": 21,
   "id": "103ff818",
   "metadata": {},
   "outputs": [
    {
     "name": "stdout",
     "output_type": "stream",
     "text": [
      "+--------------------+\n",
      "|       District_Name|\n",
      "+--------------------+\n",
      "|             Ballari|\n",
      "|            Bagalkot|\n",
      "|            Belagavi|\n",
      "|           Bengaluru|\n",
      "|               Bidar|\n",
      "|      Chamarajanagar|\n",
      "|      Chickballapura|\n",
      "|      Chikkamagaluru|\n",
      "|Coastal Security ...|\n",
      "|          Davanagere|\n",
      "|    Dakshina Kannada|\n",
      "|         Chitradurga|\n",
      "|             Dharwad|\n",
      "|              Haveri|\n",
      "|               Gadag|\n",
      "|              Hassan|\n",
      "|  Karnataka Railways|\n",
      "|              Kodagu|\n",
      "|          Kalaburagi|\n",
      "|               Kolar|\n",
      "+--------------------+\n",
      "only showing top 20 rows\n",
      "\n"
     ]
    }
   ],
   "source": [
    "df.select('District_Name').distinct().show()"
   ]
  },
  {
   "cell_type": "code",
   "execution_count": 22,
   "id": "62b0ebe3",
   "metadata": {},
   "outputs": [
    {
     "name": "stdout",
     "output_type": "stream",
     "text": [
      "+-----------+\n",
      "|   FIR Type|\n",
      "+-----------+\n",
      "|    Heinous|\n",
      "|Non Heinous|\n",
      "|       NULL|\n",
      "+-----------+\n",
      "\n"
     ]
    }
   ],
   "source": [
    "df.select('FIR Type').distinct().show()"
   ]
  },
  {
   "cell_type": "code",
   "execution_count": 23,
   "id": "1a1c0d33",
   "metadata": {},
   "outputs": [
    {
     "name": "stdout",
     "output_type": "stream",
     "text": [
      "+--------------+\n",
      "|      FIR Type|\n",
      "+--------------+\n",
      "|       Heinous|\n",
      "|   Non Heinous|\n",
      "|Not Applicable|\n",
      "+--------------+\n",
      "\n"
     ]
    }
   ],
   "source": [
    "df = df.na.replace(['NULL'], ['Not Applicable'], 'FIR Type')\n",
    "df.select('FIR Type').distinct().show()"
   ]
  },
  {
   "cell_type": "code",
   "execution_count": 37,
   "id": "3f73a5cd",
   "metadata": {},
   "outputs": [
    {
     "name": "stdout",
     "output_type": "stream",
     "text": [
      "root\n",
      " |-- District_Name: string (nullable = true)\n",
      " |-- UnitName: string (nullable = true)\n",
      " |-- FIRNo: string (nullable = true)\n",
      " |-- RI: integer (nullable = true)\n",
      " |-- Year: integer (nullable = true)\n",
      " |-- Month: integer (nullable = true)\n",
      " |-- Offence_From_Date: timestamp (nullable = true)\n",
      " |-- Offence_To_Date: string (nullable = true)\n",
      " |-- FIR_Reg_DateTime: timestamp (nullable = true)\n",
      " |-- FIR_Date: string (nullable = true)\n",
      " |-- FIR Type: string (nullable = true)\n",
      " |-- FIR_Stage: string (nullable = true)\n",
      " |-- Complaint_Mode: string (nullable = true)\n",
      " |-- CrimeGroup_Name: string (nullable = true)\n",
      " |-- CrimeHead_Name: string (nullable = true)\n",
      " |-- Latitude: string (nullable = true)\n",
      " |-- Longitude: string (nullable = true)\n",
      " |-- ActSection: string (nullable = true)\n",
      " |-- IOName: string (nullable = true)\n",
      " |-- KGID: string (nullable = true)\n",
      " |-- IOAssigned_Date: string (nullable = true)\n",
      " |-- Internal_IO: integer (nullable = true)\n",
      " |-- Place of Offence: string (nullable = true)\n",
      " |-- Distance from PS: string (nullable = true)\n",
      " |-- Beat_Name: string (nullable = true)\n",
      " |-- Village_Area_Name: string (nullable = true)\n",
      " |-- Male: string (nullable = true)\n",
      " |-- Female: string (nullable = true)\n",
      " |-- Boy: string (nullable = true)\n",
      " |-- Girl: string (nullable = true)\n",
      " |-- Age 0: string (nullable = true)\n",
      " |-- VICTIM COUNT: string (nullable = true)\n",
      " |-- Accused Count: string (nullable = true)\n",
      " |-- Arrested Male: integer (nullable = true)\n",
      " |-- Arrested Female: integer (nullable = true)\n",
      " |-- Arrested Count\\tNo.: integer (nullable = true)\n",
      " |-- Accused_ChargeSheeted Count: integer (nullable = true)\n",
      " |-- Conviction Count: integer (nullable = true)\n",
      " |-- FIR_ID: integer (nullable = true)\n",
      " |-- Unit_ID: integer (nullable = true)\n",
      " |-- Crime_No: long (nullable = true)\n",
      " |-- Date: integer (nullable = true)\n",
      " |-- CrimeGroup: double (nullable = false)\n",
      "\n"
     ]
    }
   ],
   "source": [
    "df.printSchema()"
   ]
  },
  {
   "cell_type": "code",
   "execution_count": 49,
   "id": "0f2ad1ce",
   "metadata": {},
   "outputs": [],
   "source": [
    "model_columns = df.select(['District_Name','UnitName','Date','Month','Year','FIR Type','CrimeGroup'])"
   ]
  },
  {
   "cell_type": "code",
   "execution_count": 46,
   "id": "64d26110",
   "metadata": {},
   "outputs": [],
   "source": [
    "from pyspark.ml.feature import VectorAssembler, StringIndexer, OneHotEncoder\n",
    "\n",
    "District_NameIdx = StringIndexer(inputCol='District_Name', \n",
    "                               outputCol='District_Index') \n",
    "DistrictEncode = OneHotEncoder(inputCol='District_Index', \n",
    "                               outputCol='District_Vec') \n",
    "\n",
    "UnitNameIdx = StringIndexer(inputCol='UnitName', \n",
    "                               outputCol='UnitName_Index') \n",
    "UnitNameEncode = OneHotEncoder(inputCol='UnitName_Index', \n",
    "                               outputCol='UnitName_Vec') \n",
    "\n",
    "Fir_TypeIdx = StringIndexer(inputCol='FIR Type', \n",
    "                               outputCol='FirType_Index') \n",
    "Fir_TypeEncode = OneHotEncoder(inputCol='FirType_Index', \n",
    "                               outputCol='FirType_Vec') "
   ]
  },
  {
   "cell_type": "code",
   "execution_count": 36,
   "id": "c625233d",
   "metadata": {},
   "outputs": [],
   "source": [
    "# encoding predicting column[CrimeGroup_Name]\n",
    "\n",
    "indexer = StringIndexer(inputCol=\"CrimeGroup_Name\", outputCol=\"CrimeGroup\")\n",
    "indexerModel = indexer.fit(df)\n",
    "df = indexerModel.transform(df)\n"
   ]
  },
  {
   "cell_type": "code",
   "execution_count": 39,
   "id": "abc806b0",
   "metadata": {},
   "outputs": [
    {
     "name": "stdout",
     "output_type": "stream",
     "text": [
      "+----------+\n",
      "|CrimeGroup|\n",
      "+----------+\n",
      "|        31|\n",
      "|        85|\n",
      "|        65|\n",
      "|        53|\n",
      "|        78|\n",
      "|        34|\n",
      "|        81|\n",
      "|        28|\n",
      "|        76|\n",
      "|        26|\n",
      "|        27|\n",
      "|        44|\n",
      "|        12|\n",
      "|        91|\n",
      "|        22|\n",
      "|        47|\n",
      "|         1|\n",
      "|        52|\n",
      "|        13|\n",
      "|         6|\n",
      "+----------+\n",
      "only showing top 20 rows\n",
      "\n"
     ]
    }
   ],
   "source": [
    "df = df.withColumn('CrimeGroup', df['CrimeGroup'].cast(IntegerType()))\n",
    "df.select('CrimeGroup').distinct().show()"
   ]
  },
  {
   "cell_type": "code",
   "execution_count": 29,
   "id": "53a9d7ce",
   "metadata": {},
   "outputs": [],
   "source": [
    "assembler = VectorAssembler(inputCols=['District_Vec','UnitName_Vec','Date','Month','Year','FirType_Vec'],outputCol='features')"
   ]
  },
  {
   "cell_type": "code",
   "execution_count": 47,
   "id": "fa169dc6",
   "metadata": {},
   "outputs": [],
   "source": [
    "#modeling\n",
    "log_reg = LogisticRegression(featuresCol='features',labelCol='CrimeGroup')\n",
    "\n",
    "pipe = Pipeline(stages=[District_NameIdx,UnitNameIdx,Fir_TypeIdx,DistrictEncode,UnitNameEncode,Fir_TypeEncode,assembler,log_reg])"
   ]
  },
  {
   "cell_type": "code",
   "execution_count": 51,
   "id": "abdf6b15",
   "metadata": {},
   "outputs": [
    {
     "name": "stdout",
     "output_type": "stream",
     "text": [
      "+-------------+----------+----+-----+----+-----------+----------+--------------+--------------+-------------+---------------+------------------+-------------+--------------------+--------------------+--------------------+----------+\n",
      "|District_Name|  UnitName|Date|Month|Year|   FIR Type|CrimeGroup|District_Index|UnitName_Index|FirType_Index|   District_Vec|      UnitName_Vec|  FirType_Vec|            features|       rawPrediction|         probability|prediction|\n",
      "+-------------+----------+----+-----+----+-----------+----------+--------------+--------------+-------------+---------------+------------------+-------------+--------------------+--------------------+--------------------+----------+\n",
      "|     Bagalkot|Amengad PS|   1|    2|2021|Non Heinous|         0|          24.0|         583.0|          0.0|(33,[24],[1.0])|(1054,[583],[1.0])|(2,[0],[1.0])|(1092,[24,616,108...|[7.03067100942534...|[0.12399598868599...|       5.0|\n",
      "|     Bagalkot|Amengad PS|   1|    6|2016|Non Heinous|        36|          24.0|         583.0|          0.0|(33,[24],[1.0])|(1054,[583],[1.0])|(2,[0],[1.0])|(1092,[24,616,108...|[7.22339862964126...|[0.08554202561977...|       2.0|\n",
      "|     Bagalkot|Amengad PS|   1|    6|2021|    Heinous|         7|          24.0|         583.0|          1.0|(33,[24],[1.0])|(1054,[583],[1.0])|(2,[1],[1.0])|(1092,[24,616,108...|[2.39357334616190...|[2.68233629528942...|       7.0|\n",
      "|     Bagalkot|Amengad PS|   1|    7|2018|Non Heinous|         6|          24.0|         583.0|          0.0|(33,[24],[1.0])|(1054,[583],[1.0])|(2,[0],[1.0])|(1092,[24,616,108...|[7.14393257863595...|[0.12139250399178...|       5.0|\n",
      "|     Bagalkot|Amengad PS|   1|    9|2016|Non Heinous|         0|          24.0|         583.0|          0.0|(33,[24],[1.0])|(1054,[583],[1.0])|(2,[0],[1.0])|(1092,[24,616,108...|[7.22065824165785...|[0.10093520649864...|       2.0|\n",
      "|     Bagalkot|Amengad PS|   1|    9|2022|Non Heinous|         0|          24.0|         583.0|          0.0|(33,[24],[1.0])|(1054,[583],[1.0])|(2,[0],[1.0])|(1092,[24,616,108...|[6.98500047662533...|[0.12236993527715...|       5.0|\n",
      "|     Bagalkot|Amengad PS|   1|   11|2019|Non Heinous|         5|          24.0|         583.0|          0.0|(33,[24],[1.0])|(1054,[583],[1.0])|(2,[0],[1.0])|(1092,[24,616,108...|[7.10100243381934...|[0.12932965819278...|       5.0|\n",
      "|     Bagalkot|Amengad PS|   2|    1|2021|Non Heinous|         4|          24.0|         583.0|          0.0|(33,[24],[1.0])|(1054,[583],[1.0])|(2,[0],[1.0])|(1092,[24,616,108...|[7.03050717578638...|[0.12324864230247...|       5.0|\n",
      "|     Bagalkot|Amengad PS|   2|    2|2022|Non Heinous|         5|          24.0|         583.0|          0.0|(33,[24],[1.0])|(1054,[583],[1.0])|(2,[0],[1.0])|(1092,[24,616,108...|[6.99031741895318...|[0.12253596755260...|       5.0|\n",
      "|     Bagalkot|Amengad PS|   2|    3|2017|Non Heinous|         2|          24.0|         583.0|          0.0|(33,[24],[1.0])|(1054,[583],[1.0])|(2,[0],[1.0])|(1092,[24,616,108...|[7.18578542715248...|[0.09237579251834...|       2.0|\n",
      "|     Bagalkot|Amengad PS|   2|    3|2022|Non Heinous|         0|          24.0|         583.0|          0.0|(33,[24],[1.0])|(1054,[583],[1.0])|(2,[0],[1.0])|(1092,[24,616,108...|[6.98940395629203...|[0.12274683883879...|       5.0|\n",
      "|     Bagalkot|Amengad PS|   2|    4|2016|    Heinous|         7|          24.0|         583.0|          1.0|(33,[24],[1.0])|(1054,[583],[1.0])|(2,[1],[1.0])|(1092,[24,616,108...|[2.59070444604452...|[4.27790322311645...|       7.0|\n",
      "|     Bagalkot|Amengad PS|   2|    4|2018|Non Heinous|        40|          24.0|         583.0|          0.0|(33,[24],[1.0])|(1054,[583],[1.0])|(2,[0],[1.0])|(1092,[24,616,108...|[7.14559567031925...|[0.11336434103626...|       5.0|\n",
      "|     Bagalkot|Amengad PS|   2|    4|2020|Non Heinous|         5|          24.0|         583.0|          0.0|(33,[24],[1.0])|(1054,[583],[1.0])|(2,[0],[1.0])|(1092,[24,616,108...|[7.06704308197508...|[0.12519035883917...|       5.0|\n",
      "|     Bagalkot|Amengad PS|   2|    4|2020|Non Heinous|         6|          24.0|         583.0|          0.0|(33,[24],[1.0])|(1054,[583],[1.0])|(2,[0],[1.0])|(1092,[24,616,108...|[7.06704308197508...|[0.12519035883917...|       5.0|\n",
      "|     Bagalkot|Amengad PS|   2|    4|2020|Non Heinous|         6|          24.0|         583.0|          0.0|(33,[24],[1.0])|(1054,[583],[1.0])|(2,[0],[1.0])|(1092,[24,616,108...|[7.06704308197508...|[0.12519035883917...|       5.0|\n",
      "|     Bagalkot|Amengad PS|   2|    5|2020|Non Heinous|         1|          24.0|         583.0|          0.0|(33,[24],[1.0])|(1054,[583],[1.0])|(2,[0],[1.0])|(1092,[24,616,108...|[7.06612961931396...|[0.12600236656048...|       5.0|\n",
      "|     Bagalkot|Amengad PS|   2|    5|2020|Non Heinous|         6|          24.0|         583.0|          0.0|(33,[24],[1.0])|(1054,[583],[1.0])|(2,[0],[1.0])|(1092,[24,616,108...|[7.06612961931396...|[0.12600236656048...|       5.0|\n",
      "|     Bagalkot|Amengad PS|   2|    6|2018|Non Heinous|         2|          24.0|         583.0|          0.0|(33,[24],[1.0])|(1054,[583],[1.0])|(2,[0],[1.0])|(1092,[24,616,108...|[7.14376874499699...|[0.11909772768844...|       5.0|\n",
      "|     Bagalkot|Amengad PS|   2|    6|2021|Non Heinous|        11|          24.0|         583.0|          0.0|(33,[24],[1.0])|(1054,[583],[1.0])|(2,[0],[1.0])|(1092,[24,616,108...|[7.02593986248074...|[0.12547305315683...|       5.0|\n",
      "+-------------+----------+----+-----+----+-----------+----------+--------------+--------------+-------------+---------------+------------------+-------------+--------------------+--------------------+--------------------+----------+\n",
      "only showing top 20 rows\n",
      "\n"
     ]
    }
   ],
   "source": [
    "# Splitting the data into train and test \n",
    "train_data, test_data = model_columns.randomSplit([0.7, .3]) \n",
    "  \n",
    "# Fitting the model on training data \n",
    "fit_model = pipe.fit(train_data) \n",
    "  \n",
    "# Storing the results on test data \n",
    "results = fit_model.transform(test_data) \n",
    "  \n",
    "# Showing the results \n",
    "results.show() "
   ]
  },
  {
   "cell_type": "code",
   "execution_count": 53,
   "id": "37b5cc29",
   "metadata": {},
   "outputs": [
    {
     "data": {
      "text/plain": [
       "0.7284088646210262"
      ]
     },
     "execution_count": 53,
     "metadata": {},
     "output_type": "execute_result"
    }
   ],
   "source": [
    "# Importing the evaluator \n",
    "from pyspark.ml.evaluation import BinaryClassificationEvaluator \n",
    "  \n",
    "# Calling the evaluator \n",
    "res = BinaryClassificationEvaluator(rawPredictionCol='prediction',labelCol='CrimeGroup') \n",
    "  \n",
    "ROC_AUC = res.evaluate(results) \n",
    "ROC_AUC"
   ]
  }
 ],
 "metadata": {
  "kernelspec": {
   "display_name": "Python 3 (ipykernel)",
   "language": "python",
   "name": "python3"
  },
  "language_info": {
   "codemirror_mode": {
    "name": "ipython",
    "version": 3
   },
   "file_extension": ".py",
   "mimetype": "text/x-python",
   "name": "python",
   "nbconvert_exporter": "python",
   "pygments_lexer": "ipython3",
   "version": "3.9.12"
  }
 },
 "nbformat": 4,
 "nbformat_minor": 5
}
